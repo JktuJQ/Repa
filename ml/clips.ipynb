{
 "cells": [
  {
   "cell_type": "code",
   "execution_count": 1,
   "id": "597cf821",
   "metadata": {},
   "outputs": [],
   "source": [
    "import subprocess"
   ]
  },
  {
   "cell_type": "code",
   "execution_count": 4,
   "id": "f747a0f6",
   "metadata": {},
   "outputs": [],
   "source": [
    "from moviepy import VideoFileClip\n",
    "\n",
    "\n",
    "def cut_video(path, output, start_time, end_time):\n",
    "    VideoFileClip(path).subclipped(start_time, end_time).write_videofile(output)"
   ]
  },
  {
   "cell_type": "code",
   "execution_count": 5,
   "id": "0b9e0b28",
   "metadata": {},
   "outputs": [
    {
     "name": "stdout",
     "output_type": "stream",
     "text": [
      "{'video_found': True, 'audio_found': True, 'metadata': {'major_brand': 'mp42', 'minor_version': '1', 'compatible_brands': 'isommp41mp42', 'creation_time': '2025-04-08T22:14:30.000000Z'}, 'inputs': [{'streams': [{'input_number': 0, 'stream_number': 0, 'stream_type': 'audio', 'language': None, 'default': True, 'fps': 48000, 'bitrate': 250, 'metadata': {'Metadata': '', 'creation_time': '2025-04-08T22:14:30.000000Z', 'handler_name': 'Core Media Audio', 'vendor_id': '[0][0][0][0]'}}, {'input_number': 0, 'stream_number': 1, 'stream_type': 'video', 'language': None, 'default': True, 'size': [1920, 1080], 'bitrate': 3798, 'fps': 25.0, 'codec_name': 'h264', 'profile': '(High)', 'metadata': {'Metadata': '', 'creation_time': '2025-04-08T22:14:30.000000Z', 'handler_name': 'Core Media Video', 'vendor_id': '[0][0][0][0]'}}], 'input_number': 0}], 'duration': 605.14, 'bitrate': 4053, 'start': 0.0, 'default_audio_input_number': 0, 'default_audio_stream_number': 0, 'audio_fps': 48000, 'audio_bitrate': 250, 'default_video_input_number': 0, 'default_video_stream_number': 1, 'video_codec_name': 'h264', 'video_profile': '(High)', 'video_size': [1920, 1080], 'video_bitrate': 3798, 'video_fps': 25.0, 'video_duration': 605.14, 'video_n_frames': 15128}\n",
      "/home/mzyhh/projects/Repa/.venv/lib/python3.13/site-packages/imageio_ffmpeg/binaries/ffmpeg-linux-x86_64-v7.0.2 -i ../data/10minutes_lecture.mp4 -loglevel error -f image2pipe -vf scale=1920:1080 -sws_flags bicubic -pix_fmt rgb24 -vcodec rawvideo -\n",
      "{'video_found': True, 'audio_found': True, 'metadata': {'major_brand': 'mp42', 'minor_version': '1', 'compatible_brands': 'isommp41mp42', 'creation_time': '2025-04-08T22:14:30.000000Z'}, 'inputs': [{'streams': [{'input_number': 0, 'stream_number': 0, 'stream_type': 'audio', 'language': None, 'default': True, 'fps': 48000, 'bitrate': 250, 'metadata': {'Metadata': '', 'creation_time': '2025-04-08T22:14:30.000000Z', 'handler_name': 'Core Media Audio', 'vendor_id': '[0][0][0][0]'}}, {'input_number': 0, 'stream_number': 1, 'stream_type': 'video', 'language': None, 'default': True, 'size': [1920, 1080], 'bitrate': 3798, 'fps': 25.0, 'codec_name': 'h264', 'profile': '(High)', 'metadata': {'Metadata': '', 'creation_time': '2025-04-08T22:14:30.000000Z', 'handler_name': 'Core Media Video', 'vendor_id': '[0][0][0][0]'}}], 'input_number': 0}], 'duration': 605.14, 'bitrate': 4053, 'start': 0.0, 'default_audio_input_number': 0, 'default_audio_stream_number': 0, 'audio_fps': 48000, 'audio_bitrate': 250, 'default_video_input_number': 0, 'default_video_stream_number': 1, 'video_codec_name': 'h264', 'video_profile': '(High)', 'video_size': [1920, 1080], 'video_bitrate': 3798, 'video_fps': 25.0, 'video_duration': 605.14, 'video_n_frames': 15128}\n",
      "/home/mzyhh/projects/Repa/.venv/lib/python3.13/site-packages/imageio_ffmpeg/binaries/ffmpeg-linux-x86_64-v7.0.2 -ss 9.000000 -i ../data/10minutes_lecture.mp4 -ss 1.000000 -loglevel error -f image2pipe -vf scale=1920:1080 -sws_flags bicubic -pix_fmt rgb24 -vcodec rawvideo -\n",
      "MoviePy - Building video clip2.mp4.\n",
      "MoviePy - Writing audio in clip2TEMP_MPY_wvf_snd.mp3\n"
     ]
    },
    {
     "name": "stderr",
     "output_type": "stream",
     "text": [
      "                                                                   \r"
     ]
    },
    {
     "name": "stdout",
     "output_type": "stream",
     "text": [
      "MoviePy - Done.\n",
      "MoviePy - Writing video clip2.mp4\n",
      "\n"
     ]
    },
    {
     "name": "stderr",
     "output_type": "stream",
     "text": [
      "                                                                        \r"
     ]
    },
    {
     "name": "stdout",
     "output_type": "stream",
     "text": [
      "MoviePy - Done !\n",
      "MoviePy - video ready clip2.mp4\n"
     ]
    }
   ],
   "source": [
    "cut_video(\"../data/10minutes_lecture.mp4\", \"clip2.mp4\", 10, 20)"
   ]
  },
  {
   "cell_type": "code",
   "execution_count": null,
   "id": "0a8f8799",
   "metadata": {},
   "outputs": [],
   "source": []
  }
 ],
 "metadata": {
  "kernelspec": {
   "display_name": ".venv",
   "language": "python",
   "name": "python3"
  },
  "language_info": {
   "codemirror_mode": {
    "name": "ipython",
    "version": 3
   },
   "file_extension": ".py",
   "mimetype": "text/x-python",
   "name": "python",
   "nbconvert_exporter": "python",
   "pygments_lexer": "ipython3",
   "version": "3.13.2"
  }
 },
 "nbformat": 4,
 "nbformat_minor": 5
}
