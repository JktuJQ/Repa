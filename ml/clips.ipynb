{
 "cells": [
  {
   "cell_type": "code",
   "execution_count": null,
   "id": "597cf821",
   "metadata": {},
   "outputs": [],
   "source": [
    "import subprocess"
   ]
  },
  {
   "cell_type": "code",
   "execution_count": null,
   "id": "f747a0f6",
   "metadata": {},
   "outputs": [],
   "source": [
    "import subprocess\n",
    "\n",
    "def cut_video(input_path, output_path, start_time, end_time):\n",
    "    cmd = [\n",
    "        'ffmpeg',\n",
    "        '-ss', str(start_time),\n",
    "        '-to', str(end_time),\n",
    "        '-i', input_path,\n",
    "        '-c:v', 'libx264',\n",
    "        '-c:a', 'aac',\n",
    "        '-preset', 'fast',    \n",
    "        output_path\n",
    "    ]\n",
    "\n",
    "    subprocess.run(cmd)\n",
    "\n",
    "def scale_video(path, output, width=900, height=1600):\n",
    "    subprocess.run([\"ffmpeg\", \"-i\", path, \"-vf\",\n",
    "                    f\"scale={width}:{height}\", output])\n",
    "\n",
    "def add_border_ffmpeg(input_path, output_path, border_hd=0, border_lr=0, border_color=\"black\"):\n",
    "    \"\"\"\n",
    "    Add border using FFmpeg (faster for large videos)\n",
    "    :param border_color: Can be color name or hex code (#RRGGBB)\n",
    "    :param border_hd: size of border under and upper of original video (total height increased on border_hd*2)\n",
    "    :param border_lr: size of left and right border (total width increased on border_lr*2l)\n",
    "    \"\"\"\n",
    "    cmd = [\n",
    "        'ffmpeg',\n",
    "        '-i', input_path,\n",
    "        '-vf', f'pad=width=iw+{border_lr*2}:height=ih+{border_hd*2}:x={border_lr}:y={border_hd}:color={border_color}',\n",
    "        '-c:a', 'copy',\n",
    "        output_path\n",
    "    ]\n",
    "\n",
    "    subprocess.run(cmd)\n",
    "\n",
    "def blur_video(input_path, output_path):\n",
    "    cmd = [\n",
    "        'ffmpeg',\n",
    "        '-i', input_path,\n",
    "        '-vf', 'boxblur=10:5',\n",
    "        '-c:a', 'copy',\n",
    "        output_path\n",
    "    ]\n",
    "    subprocess.run(cmd)\n",
    "\n",
    "def compose_center(background_path, overlay_path, output_path):\n",
    "    cmd = [\n",
    "        'ffmpeg',\n",
    "        '-i', background_path,\n",
    "        '-i', overlay_path,\n",
    "        '-filter_complex',\n",
    "        '[0:v][1:v]overlay=(W-w)/2:(H-h)/2',\n",
    "        '-c:a', 'copy',\n",
    "        output_path\n",
    "    ]\n",
    "    subprocess.run(cmd)\n"
   ]
  },
  {
   "cell_type": "code",
   "execution_count": null,
   "id": "8844f136",
   "metadata": {},
   "outputs": [],
   "source": [
    "# blur_video(\"input.mp4\", \"output.mp4\")\n",
    "# scale_video(\"blur.mp4\", \"background.mp4\", width=1920, height=1080*3)\n",
    "# compose_center(\"background.mp4\", \"input.mp4\", \"output.mp4\")\n",
    "cut_with_reencode(\"input.mp4\", \"cutted.mp4\", 5, 10)"
   ]
  },
  {
   "cell_type": "code",
   "execution_count": null,
   "id": "0b9e0b28",
   "metadata": {},
   "outputs": [],
   "source": [
    "clip = VideoFileClip(\"output.mp4\")\n",
    "clip.size"
   ]
  },
  {
   "cell_type": "code",
   "execution_count": null,
   "id": "0a8f8799",
   "metadata": {},
   "outputs": [],
   "source": []
  }
 ],
 "metadata": {
  "kernelspec": {
   "display_name": ".venv",
   "language": "python",
   "name": "python3"
  },
  "language_info": {
   "codemirror_mode": {
    "name": "ipython",
    "version": 3
   },
   "file_extension": ".py",
   "mimetype": "text/x-python",
   "name": "python",
   "nbconvert_exporter": "python",
   "pygments_lexer": "ipython3",
   "version": "3.13.2"
  }
 },
 "nbformat": 4,
 "nbformat_minor": 5
}
