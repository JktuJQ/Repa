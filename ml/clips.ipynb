{
 "cells": [
  {
   "cell_type": "code",
   "execution_count": 1,
   "id": "597cf821",
   "metadata": {},
   "outputs": [],
   "source": [
    "import subprocess"
   ]
  },
  {
   "cell_type": "code",
   "execution_count": null,
   "id": "f747a0f6",
   "metadata": {},
   "outputs": [],
   "source": [
    "from moviepy import VideoFileClip\n",
    "import subprocess\n",
    "\n",
    "\n",
    "def cut_video(path, output, start_time, end_time):\n",
    "    VideoFileClip(path).subclipped(start_time, end_time).write_videofile(output)\n",
    "\n",
    "def scale_video(path, output, width=900, height=1600):\n",
    "    subprocess.run([\"ffmpeg\", \"-i\", path, \"-vf\",\n",
    "                    f\"scale={width}:{height}\", output])\n",
    "\n",
    "def add_border_ffmpeg(input_path, output_path, border_hd=0, border_lr=0, border_color=\"black\"):\n",
    "    \"\"\"\n",
    "    Add border using FFmpeg (faster for large videos)\n",
    "    :param border_color: Can be color name or hex code (#RRGGBB)\n",
    "    :param border_hd: size of border under and upper of original video (total height increased on border_hd*2)\n",
    "    :param border_lr: size of left and right border (total width increased on border_lr*2l)\n",
    "    \"\"\"\n",
    "    cmd = [\n",
    "        'ffmpeg',\n",
    "        '-i', input_path,\n",
    "        '-vf', f'pad=width=iw+{border_lr*2}:height=ih+{border_hd*2}:x={border_lr}:y={border_hd}:color={border_color}',\n",
    "        '-c:a', 'copy',\n",
    "        output_path\n",
    "    ]\n",
    "\n",
    "    subprocess.run(cmd)"
   ]
  },
  {
   "cell_type": "code",
   "execution_count": 34,
   "id": "8844f136",
   "metadata": {},
   "outputs": [
    {
     "name": "stdout",
     "output_type": "stream",
     "text": [
      "{'video_found': True, 'audio_found': True, 'metadata': {'major_brand': 'isom', 'minor_version': '512', 'compatible_brands': 'isomiso2avc1mp41', 'encoder': 'Lavf61.1.100'}, 'inputs': [{'streams': [{'input_number': 0, 'stream_number': 0, 'stream_type': 'video', 'language': None, 'default': True, 'size': [1920, 1080], 'bitrate': 3094, 'fps': 25.0, 'codec_name': 'h264', 'profile': '(High)', 'metadata': {'Metadata': '', 'handler_name': 'VideoHandler', 'vendor_id': '[0][0][0][0]', 'encoder': 'Lavc61.3.100 libx264'}}, {'input_number': 0, 'stream_number': 1, 'stream_type': 'audio', 'language': None, 'default': True, 'fps': 44100, 'bitrate': 127, 'metadata': {'Metadata': '', 'handler_name': 'SoundHandler', 'vendor_id': '[0][0][0][0]'}}], 'input_number': 0}], 'duration': 20.01, 'bitrate': 3228, 'start': 0.0, 'default_video_input_number': 0, 'default_video_stream_number': 0, 'video_codec_name': 'h264', 'video_profile': '(High)', 'video_size': [1920, 1080], 'video_bitrate': 3094, 'video_fps': 25.0, 'default_audio_input_number': 0, 'default_audio_stream_number': 1, 'audio_fps': 44100, 'audio_bitrate': 127, 'video_duration': 20.01, 'video_n_frames': 500}\n",
      "/home/mzyhh/projects/Repa/.venv/lib/python3.13/site-packages/imageio_ffmpeg/binaries/ffmpeg-linux-x86_64-v7.0.2 -i clip.mp4 -loglevel error -f image2pipe -vf scale=1920:1080 -sws_flags bicubic -pix_fmt rgb24 -vcodec rawvideo -\n"
     ]
    },
    {
     "name": "stderr",
     "output_type": "stream",
     "text": [
      "ffmpeg version n7.1 Copyright (c) 2000-2024 the FFmpeg developers\n",
      "  built with gcc 14.2.1 (GCC) 20250207\n",
      "  configuration: --prefix=/usr --disable-debug --disable-static --disable-stripping --enable-amf --enable-avisynth --enable-cuda-llvm --enable-lto --enable-fontconfig --enable-frei0r --enable-gmp --enable-gnutls --enable-gpl --enable-ladspa --enable-libaom --enable-libass --enable-libbluray --enable-libbs2b --enable-libdav1d --enable-libdrm --enable-libdvdnav --enable-libdvdread --enable-libfreetype --enable-libfribidi --enable-libglslang --enable-libgsm --enable-libharfbuzz --enable-libiec61883 --enable-libjack --enable-libjxl --enable-libmodplug --enable-libmp3lame --enable-libopencore_amrnb --enable-libopencore_amrwb --enable-libopenjpeg --enable-libopenmpt --enable-libopus --enable-libplacebo --enable-libpulse --enable-librav1e --enable-librsvg --enable-librubberband --enable-libsnappy --enable-libsoxr --enable-libspeex --enable-libsrt --enable-libssh --enable-libsvtav1 --enable-libtheora --enable-libv4l2 --enable-libvidstab --enable-libvmaf --enable-libvorbis --enable-libvpl --enable-libvpx --enable-libwebp --enable-libx264 --enable-libx265 --enable-libxcb --enable-libxml2 --enable-libxvid --enable-libzimg --enable-libzmq --enable-nvdec --enable-nvenc --enable-opencl --enable-opengl --enable-shared --enable-vapoursynth --enable-version3 --enable-vulkan\n",
      "  libavutil      59. 39.100 / 59. 39.100\n",
      "  libavcodec     61. 19.100 / 61. 19.100\n",
      "  libavformat    61.  7.100 / 61.  7.100\n",
      "  libavdevice    61.  3.100 / 61.  3.100\n",
      "  libavfilter    10.  4.100 / 10.  4.100\n",
      "  libswscale      8.  3.100 /  8.  3.100\n",
      "  libswresample   5.  3.100 /  5.  3.100\n",
      "  libpostproc    58.  3.100 / 58.  3.100\n",
      "Input #0, mov,mp4,m4a,3gp,3g2,mj2, from 'clip.mp4':\n",
      "  Metadata:\n",
      "    major_brand     : isom\n",
      "    minor_version   : 512\n",
      "    compatible_brands: isomiso2avc1mp41\n",
      "    encoder         : Lavf61.1.100\n",
      "  Duration: 00:00:20.01, start: 0.000000, bitrate: 3228 kb/s\n",
      "  Stream #0:0[0x1](und): Video: h264 (High) (avc1 / 0x31637661), yuv420p(progressive), 1920x1080, 3094 kb/s, 25 fps, 25 tbr, 12800 tbn (default)\n",
      "      Metadata:\n",
      "        handler_name    : VideoHandler\n",
      "        vendor_id       : [0][0][0][0]\n",
      "        encoder         : Lavc61.3.100 libx264\n",
      "  Stream #0:1[0x2](und): Audio: mp3 (mp3float) (mp4a / 0x6134706D), 44100 Hz, stereo, fltp, 127 kb/s (default)\n",
      "      Metadata:\n",
      "        handler_name    : SoundHandler\n",
      "        vendor_id       : [0][0][0][0]\n",
      "Stream mapping:\n",
      "  Stream #0:0 -> #0:0 (h264 (native) -> h264 (libx264))\n",
      "  Stream #0:1 -> #0:1 (copy)\n",
      "Press [q] to stop, [?] for help\n",
      "[libx264 @ 0x5e8c283cd700] using cpu capabilities: MMX2 SSE2Fast SSSE3 SSE4.2 AVX FMA3 BMI2 AVX2 AVX512\n",
      "[libx264 @ 0x5e8c283cd700] profile High, level 5.1, 4:2:0, 8-bit\n",
      "[libx264 @ 0x5e8c283cd700] 264 - core 164 r3108 31e19f9 - H.264/MPEG-4 AVC codec - Copyleft 2003-2023 - http://www.videolan.org/x264.html - options: cabac=1 ref=3 deblock=1:0:0 analyse=0x3:0x113 me=hex subme=7 psy=1 psy_rd=1.00:0.00 mixed_ref=1 me_range=16 chroma_me=1 trellis=1 8x8dct=1 cqm=0 deadzone=21,11 fast_pskip=1 chroma_qp_offset=-2 threads=6 lookahead_threads=1 sliced_threads=0 nr=0 decimate=1 interlaced=0 bluray_compat=0 constrained_intra=0 bframes=3 b_pyramid=2 b_adapt=1 b_bias=0 direct=1 weightb=1 open_gop=0 weightp=2 keyint=250 keyint_min=25 scenecut=40 intra_refresh=0 rc_lookahead=40 rc=crf mbtree=1 crf=23.0 qcomp=0.60 qpmin=0 qpmax=69 qpstep=4 ip_ratio=1.40 aq=1:1.00\n",
      "Output #0, mp4, to 'output.mp4':\n",
      "  Metadata:\n",
      "    major_brand     : isom\n",
      "    minor_version   : 512\n",
      "    compatible_brands: isomiso2avc1mp41\n",
      "    encoder         : Lavf61.7.100\n",
      "  Stream #0:0(und): Video: h264 (avc1 / 0x31637661), yuv420p(tv, progressive), 1920x3240, q=2-31, 25 fps, 12800 tbn (default)\n",
      "      Metadata:\n",
      "        handler_name    : VideoHandler\n",
      "        vendor_id       : [0][0][0][0]\n",
      "        encoder         : Lavc61.19.100 libx264\n",
      "      Side data:\n",
      "        cpb: bitrate max/min/avg: 0/0/0 buffer size: 0 vbv_delay: N/A\n",
      "  Stream #0:1(und): Audio: mp3 (mp4a / 0x6134706D), 44100 Hz, stereo, fltp, 127 kb/s (default)\n",
      "      Metadata:\n",
      "        handler_name    : SoundHandler\n",
      "        vendor_id       : [0][0][0][0]\n",
      "[out#0/mp4 @ 0x5e8c283e1480] video:6955KiB audio:313KiB subtitle:0KiB other streams:0KiB global headers:0KiB muxing overhead: 0.267243%\n",
      "frame=  500 fps= 19 q=-1.0 Lsize=    7287KiB time=00:00:19.92 bitrate=2996.9kbits/s speed=0.754x    \n",
      "[libx264 @ 0x5e8c283cd700] frame I:3     Avg QP:10.75  size:121556\n",
      "[libx264 @ 0x5e8c283cd700] frame P:157   Avg QP:13.74  size: 30025\n",
      "[libx264 @ 0x5e8c283cd700] frame B:340   Avg QP:19.35  size:  6007\n",
      "[libx264 @ 0x5e8c283cd700] consecutive B-frames:  1.2% 20.8% 10.8% 67.2%\n",
      "[libx264 @ 0x5e8c283cd700] mb I  I16..4: 68.3% 28.2%  3.5%\n",
      "[libx264 @ 0x5e8c283cd700] mb P  I16..4:  0.8%  3.2%  0.1%  P16..4: 14.3%  5.5%  2.9%  0.0%  0.0%    skip:73.2%\n",
      "[libx264 @ 0x5e8c283cd700] mb B  I16..4:  0.1%  0.2%  0.0%  B16..8: 10.3%  1.0%  0.1%  direct: 0.3%  skip:88.1%  L0:40.3% L1:57.7% BI: 2.1%\n",
      "[libx264 @ 0x5e8c283cd700] 8x8 transform intra:63.4% inter:88.1%\n",
      "[libx264 @ 0x5e8c283cd700] coded y,uvDC,uvAC intra: 40.1% 46.8% 4.6% inter: 3.2% 6.2% 0.0%\n",
      "[libx264 @ 0x5e8c283cd700] i16 v,h,dc,p: 69% 12%  6% 13%\n",
      "[libx264 @ 0x5e8c283cd700] i8 v,h,dc,ddl,ddr,vr,hd,vl,hu: 28% 18% 23%  4%  6%  7%  5%  5%  5%\n",
      "[libx264 @ 0x5e8c283cd700] i4 v,h,dc,ddl,ddr,vr,hd,vl,hu: 34% 20% 12%  4%  7%  9%  5%  6%  3%\n",
      "[libx264 @ 0x5e8c283cd700] i8c dc,h,v,p: 61% 13% 24%  2%\n",
      "[libx264 @ 0x5e8c283cd700] Weighted P-Frames: Y:0.0% UV:0.0%\n",
      "[libx264 @ 0x5e8c283cd700] ref P L0: 66.7% 12.0% 15.6%  5.7%\n",
      "[libx264 @ 0x5e8c283cd700] ref B L0: 89.9%  8.1%  2.0%\n",
      "[libx264 @ 0x5e8c283cd700] ref B L1: 97.4%  2.6%\n",
      "[libx264 @ 0x5e8c283cd700] kb/s:2848.41\n"
     ]
    }
   ],
   "source": [
    "size = VideoFileClip(\"clip.mp4\").size\n",
    "add_border_ffmpeg(\"clip.mp4\", \"output.mp4\", border_hd=size[1])"
   ]
  },
  {
   "cell_type": "code",
   "execution_count": 35,
   "id": "0b9e0b28",
   "metadata": {},
   "outputs": [
    {
     "name": "stdout",
     "output_type": "stream",
     "text": [
      "{'video_found': True, 'audio_found': True, 'metadata': {'major_brand': 'isom', 'minor_version': '512', 'compatible_brands': 'isomiso2avc1mp41', 'encoder': 'Lavf61.7.100'}, 'inputs': [{'streams': [{'input_number': 0, 'stream_number': 0, 'stream_type': 'video', 'language': None, 'default': True, 'size': [1920, 3240], 'bitrate': 2848, 'fps': 25.0, 'codec_name': 'h264', 'profile': '(High)', 'metadata': {'Metadata': '', 'handler_name': 'VideoHandler', 'vendor_id': '[0][0][0][0]', 'encoder': 'Lavc61.19.100 libx264'}}, {'input_number': 0, 'stream_number': 1, 'stream_type': 'audio', 'language': None, 'default': True, 'fps': 44100, 'bitrate': 128, 'metadata': {'Metadata': '', 'handler_name': 'SoundHandler', 'vendor_id': '[0][0][0][0]'}}], 'input_number': 0}], 'duration': 20.01, 'bitrate': 2983, 'start': 0.0, 'default_video_input_number': 0, 'default_video_stream_number': 0, 'video_codec_name': 'h264', 'video_profile': '(High)', 'video_size': [1920, 3240], 'video_bitrate': 2848, 'video_fps': 25.0, 'default_audio_input_number': 0, 'default_audio_stream_number': 1, 'audio_fps': 44100, 'audio_bitrate': 128, 'video_duration': 20.01, 'video_n_frames': 500}\n",
      "/home/mzyhh/projects/Repa/.venv/lib/python3.13/site-packages/imageio_ffmpeg/binaries/ffmpeg-linux-x86_64-v7.0.2 -i output.mp4 -loglevel error -f image2pipe -vf scale=1920:3240 -sws_flags bicubic -pix_fmt rgb24 -vcodec rawvideo -\n"
     ]
    },
    {
     "data": {
      "text/plain": [
       "[1920, 3240]"
      ]
     },
     "execution_count": 35,
     "metadata": {},
     "output_type": "execute_result"
    }
   ],
   "source": [
    "clip = VideoFileClip(\"output.mp4\")\n",
    "clip.size"
   ]
  },
  {
   "cell_type": "code",
   "execution_count": null,
   "id": "0a8f8799",
   "metadata": {},
   "outputs": [],
   "source": []
  }
 ],
 "metadata": {
  "kernelspec": {
   "display_name": ".venv",
   "language": "python",
   "name": "python3"
  },
  "language_info": {
   "codemirror_mode": {
    "name": "ipython",
    "version": 3
   },
   "file_extension": ".py",
   "mimetype": "text/x-python",
   "name": "python",
   "nbconvert_exporter": "python",
   "pygments_lexer": "ipython3",
   "version": "3.13.2"
  }
 },
 "nbformat": 4,
 "nbformat_minor": 5
}
